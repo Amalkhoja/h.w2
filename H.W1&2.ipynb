{
  "nbformat": 4,
  "nbformat_minor": 0,
  "metadata": {
    "colab": {
      "provenance": [],
      "authorship_tag": "ABX9TyOZdicR5vmznKHBAuuYYzm2",
      "include_colab_link": true
    },
    "kernelspec": {
      "name": "python3",
      "display_name": "Python 3"
    },
    "language_info": {
      "name": "python"
    }
  },
  "cells": [
    {
      "cell_type": "markdown",
      "metadata": {
        "id": "view-in-github",
        "colab_type": "text"
      },
      "source": [
        "<a href=\"https://colab.research.google.com/github/Amalkhoja/h.w2/blob/main/H.W1%262.ipynb\" target=\"_parent\"><img src=\"https://colab.research.google.com/assets/colab-badge.svg\" alt=\"Open In Colab\"/></a>"
      ]
    },
    {
      "cell_type": "code",
      "execution_count": 2,
      "metadata": {
        "id": "lbCcMAkAfqVw",
        "outputId": "92bb8826-cbc4-4730-f146-56a5af5cde06",
        "colab": {
          "base_uri": "https://localhost:8080/"
        }
      },
      "outputs": [
        {
          "output_type": "stream",
          "name": "stdout",
          "text": [
            "My name is Amal\n",
            "My age is 37\n",
            " Welcome everyone, I'm Amal, my age is 37,I want to be a good programer and data analyst\n"
          ]
        }
      ],
      "source": [
        "#first H.W  with Masar\n",
        "name= \"Amal\" # اسمي\n",
        "age= 37   #عمري\n",
        "print (\"My name is\"+\" \"+ name)\n",
        "print (\"My age is \"+str(age))\n",
        "print (\" Welcome everyone, I'm Amal, my age is 37,I want to be a good programer and data analyst\")"
      ]
    }
  ]
}