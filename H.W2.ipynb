{
  "nbformat": 4,
  "nbformat_minor": 0,
  "metadata": {
    "colab": {
      "provenance": [],
      "authorship_tag": "ABX9TyM+CFW1c8W7N0m6Qpb/DaXN",
      "include_colab_link": true
    },
    "kernelspec": {
      "name": "python3",
      "display_name": "Python 3"
    },
    "language_info": {
      "name": "python"
    }
  },
  "cells": [
    {
      "cell_type": "markdown",
      "metadata": {
        "id": "view-in-github",
        "colab_type": "text"
      },
      "source": [
        "<a href=\"https://colab.research.google.com/github/Amalkhoja/h.w2/blob/main/H.W2.ipynb\" target=\"_parent\"><img src=\"https://colab.research.google.com/assets/colab-badge.svg\" alt=\"Open In Colab\"/></a>"
      ]
    },
    {
      "cell_type": "code",
      "execution_count": null,
      "metadata": {
        "id": "lbCcMAkAfqVw",
        "colab": {
          "base_uri": "https://localhost:8080/"
        },
        "outputId": "92bb8826-cbc4-4730-f146-56a5af5cde06"
      },
      "outputs": [
        {
          "output_type": "stream",
          "name": "stdout",
          "text": [
            "My name is Amal\n",
            "My age is 37\n",
            " Welcome everyone, I'm Amal, my age is 37,I want to be a good programer and data analyst\n"
          ]
        }
      ],
      "source": [
        "#first H.W  with Masar\n",
        "name= \"Amal\" # اسمي\n",
        "age= 37   #عمري\n",
        "print (\"My name is\"+\" \"+ name)\n",
        "print (\"My age is \"+str(age))\n",
        "print (\" Welcome everyone, I'm Amal, my age is 37,I want to be a good programer and data analyst\")"
      ]
    },
    {
      "cell_type": "code",
      "source": [
        "#second H.W with masar\n",
        "def calculate_bonus(years, evaluation):\n",
        "    if years <= 10:\n",
        "        if evaluation == \"Excellent\":\n",
        "            bonus_percentage = 0.10\n",
        "        elif evaluation == \"Poor\":\n",
        "            bonus_percentage = 0.05\n",
        "        else:\n",
        "            bonus_percentage = 0\n",
        "    else:\n",
        "        if evaluation == \"Excellent\":\n",
        "            bonus_percentage = 0.20\n",
        "        elif evaluation == \"Poor\":\n",
        "            bonus_percentage = 0.15\n",
        "        else:\n",
        "            bonus_percentage = 0\n",
        "\n",
        "    return bonus_percentage\n",
        "\n",
        "\n",
        "# تعيين القيم\n",
        "employee_years = 8\n",
        "employee_evaluation = \"Excellent\"\n",
        "\n",
        "# حساب المكافأة\n",
        "bonus = calculate_bonus(employee_years, employee_evaluation)\n",
        "\n",
        "# طباعة نتيجة الحساب\n",
        "print(f\"معدل المكافأة: {bonus * 100}%\")"
      ],
      "metadata": {
        "colab": {
          "base_uri": "https://localhost:8080/"
        },
        "id": "kQ1kPafJizsh",
        "outputId": "878919e4-4ede-41a9-d104-98bce76ac377"
      },
      "execution_count": null,
      "outputs": [
        {
          "output_type": "stream",
          "name": "stdout",
          "text": [
            "معدل المكافأة: 10.0%\n"
          ]
        }
      ]
    },
    {
      "cell_type": "code",
      "source": [
        "#solving with np\n",
        "import numpy as np\n",
        "def calculate_bonus(years,evaluation):\n",
        "  if years<=10:\n",
        "    bonus=np.select([evaluation==\"Excellent\",evaluation==\"Poor\",],[0.10,0.15],default=0)\n",
        "  else:\n",
        "    bonus=np.select([evaluation==\"Excellent\",evaluation==\"Poor\",],[0.20,0.15],default=0)\n",
        "  return bonus\n",
        "\n",
        "# تعيين القيم\n",
        "employee_years = 8\n",
        "employee_evaluation = \"Excellent\"\n",
        "\n",
        "# حساب المكافأة\n",
        "bonus = calculate_bonus(employee_years, employee_evaluation)\n",
        "\n",
        "# طباعة نتيجة الحساب\n",
        "print(f\"معدل المكافأة: {bonus * 100}%\")"
      ],
      "metadata": {
        "colab": {
          "base_uri": "https://localhost:8080/"
        },
        "id": "smobsBmhkfji",
        "outputId": "687d70ef-6bb5-4634-9fdf-04096205611c"
      },
      "execution_count": null,
      "outputs": [
        {
          "output_type": "stream",
          "name": "stdout",
          "text": [
            "معدل المكافأة: 10.0%\n"
          ]
        }
      ]
    },
    {
      "cell_type": "markdown",
      "source": [
        "solving of Quiz:\n",
        "فلتعتبر أن لديك مصفوفة فيها عدة أرقام, حاول أن تجد عددين يكون المجموع عدد معرف مسبق معطى لك. فلنفرض أن المجموع موجود في هذه المصفوفة"
      ],
      "metadata": {
        "id": "QDvoD1XOL-39"
      }
    },
    {
      "cell_type": "code",
      "source": [
        "def two_sum(nums, target):\n",
        "    # Create a dictionary to store the difference between the target sum and each number\n",
        "    num_dict = {}\n",
        "\n",
        "    # Iterate through the array\n",
        "    for i, num in enumerate(nums):\n",
        "        # Calculate the difference needed to reach the target sum\n",
        "        difference = target - num\n",
        "\n",
        "        # If the difference is already in the dictionary, it means we found the pair\n",
        "        if difference in num_dict:\n",
        "            # Return the indices of the current number and the number that makes up the target sum\n",
        "            return [num_dict[difference], i]\n",
        "\n",
        "        # Otherwise, add the current number and its index to the dictionary\n",
        "        num_dict[num] = i\n",
        "\n",
        "    # If no solution is found, return None or an empty list\n",
        "    return None\n",
        "\n",
        "# Example usage:\n",
        "nums = [2, 5, 11, 15,6,7,9,10]\n",
        "target = 25\n",
        "print(two_sum(nums, target))  # Output: [0, 5] (indices of numbers 2 and 7 which add up to 9)"
      ],
      "metadata": {
        "id": "GiGl9uN7L9Ic"
      },
      "execution_count": null,
      "outputs": []
    }
  ]
}