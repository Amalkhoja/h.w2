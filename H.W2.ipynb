{
  "nbformat": 4,
  "nbformat_minor": 0,
  "metadata": {
    "colab": {
      "provenance": [],
      "authorship_tag": "ABX9TyOuszTK4Wqiuh9yt+CzbiYj",
      "include_colab_link": true
    },
    "kernelspec": {
      "name": "python3",
      "display_name": "Python 3"
    },
    "language_info": {
      "name": "python"
    }
  },
  "cells": [
    {
      "cell_type": "markdown",
      "metadata": {
        "id": "view-in-github",
        "colab_type": "text"
      },
      "source": [
        "<a href=\"https://colab.research.google.com/github/Amalkhoja/h.w2/blob/main/H.W2.ipynb\" target=\"_parent\"><img src=\"https://colab.research.google.com/assets/colab-badge.svg\" alt=\"Open In Colab\"/></a>"
      ]
    },
    {
      "cell_type": "code",
      "execution_count": null,
      "metadata": {
        "id": "lbCcMAkAfqVw",
        "colab": {
          "base_uri": "https://localhost:8080/"
        },
        "outputId": "92bb8826-cbc4-4730-f146-56a5af5cde06"
      },
      "outputs": [
        {
          "output_type": "stream",
          "name": "stdout",
          "text": [
            "My name is Amal\n",
            "My age is 37\n",
            " Welcome everyone, I'm Amal, my age is 37,I want to be a good programer and data analyst\n"
          ]
        }
      ],
      "source": [
        "#first H.W  with Masar\n",
        "name= \"Amal\" # اسمي\n",
        "age= 37   #عمري\n",
        "print (\"My name is\"+\" \"+ name)\n",
        "print (\"My age is \"+str(age))\n",
        "print (\" Welcome everyone, I'm Amal, my age is 37,I want to be a good programer and data analyst\")"
      ]
    },
    {
      "cell_type": "code",
      "source": [
        "#second H.W with masar\n",
        "def calculate_bonus(years, evaluation):\n",
        "    if years <= 10:\n",
        "        if evaluation == \"Excellent\":\n",
        "            bonus_percentage = 0.10\n",
        "        elif evaluation == \"Poor\":\n",
        "            bonus_percentage = 0.05\n",
        "        else:\n",
        "            bonus_percentage = 0\n",
        "    else:\n",
        "        if evaluation == \"Excellent\":\n",
        "            bonus_percentage = 0.20\n",
        "        elif evaluation == \"Poor\":\n",
        "            bonus_percentage = 0.15\n",
        "        else:\n",
        "            bonus_percentage = 0\n",
        "\n",
        "    return bonus_percentage\n",
        "\n",
        "\n",
        "# تعيين القيم\n",
        "employee_years = 8\n",
        "employee_evaluation = \"Excellent\"\n",
        "\n",
        "# حساب المكافأة\n",
        "bonus = calculate_bonus(employee_years, employee_evaluation)\n",
        "\n",
        "# طباعة نتيجة الحساب\n",
        "print(f\"معدل المكافأة: {bonus * 100}%\")"
      ],
      "metadata": {
        "colab": {
          "base_uri": "https://localhost:8080/"
        },
        "id": "kQ1kPafJizsh",
        "outputId": "878919e4-4ede-41a9-d104-98bce76ac377"
      },
      "execution_count": null,
      "outputs": [
        {
          "output_type": "stream",
          "name": "stdout",
          "text": [
            "معدل المكافأة: 10.0%\n"
          ]
        }
      ]
    },
    {
      "cell_type": "code",
      "source": [
        "#solving with np\n",
        "import numpy as np\n",
        "def calculate_bonus(years,evaluation):\n",
        "  if years<=10:\n",
        "    bonus=np.select([evaluation==\"Excellent\",evaluation==\"Poor\",],[0.10,0.15],default=0)\n",
        "  else:\n",
        "    bonus=np.select([evaluation==\"Excellent\",evaluation==\"Poor\",],[0.20,0.15],default=0)\n",
        "  return bonus\n",
        "\n",
        "# تعيين القيم\n",
        "employee_years = 8\n",
        "employee_evaluation = \"Excellent\"\n",
        "\n",
        "# حساب المكافأة\n",
        "bonus = calculate_bonus(employee_years, employee_evaluation)\n",
        "\n",
        "# طباعة نتيجة الحساب\n",
        "print(f\"معدل المكافأة: {bonus * 100}%\")"
      ],
      "metadata": {
        "colab": {
          "base_uri": "https://localhost:8080/"
        },
        "id": "smobsBmhkfji",
        "outputId": "687d70ef-6bb5-4634-9fdf-04096205611c"
      },
      "execution_count": null,
      "outputs": [
        {
          "output_type": "stream",
          "name": "stdout",
          "text": [
            "معدل المكافأة: 10.0%\n"
          ]
        }
      ]
    },
    {
      "cell_type": "markdown",
      "source": [
        "H.W3\n",
        "Q1\n",
        "1. Write a Python program to construct the following pattern, using a nested for loop. (Get the number of the 'stars' from the user).\n",
        "\n",
        "*\n",
        "* *\n",
        "* * *\n",
        "* * * *\n",
        "* * * * *\n",
        "* * * *\n",
        "* * *\n",
        "* *\n",
        "*"
      ],
      "metadata": {
        "id": "hdY2HXCVAHLa"
      }
    },
    {
      "cell_type": "code",
      "source": [
        "n=6\n",
        "for i in range (n):\n",
        "  for j in range (i):\n",
        "      print('*',end= \" \")\n",
        "  print ('')\n",
        "\n",
        "for i in range(n-2,0,-1):\n",
        "  for j in range (i):\n",
        "     print('*',end= \" \")\n",
        "  print('')\n"
      ],
      "metadata": {
        "colab": {
          "base_uri": "https://localhost:8080/"
        },
        "id": "HtCAHddmAU1g",
        "outputId": "8808d410-4d21-4a92-cc42-b10fd26d5d58"
      },
      "execution_count": 9,
      "outputs": [
        {
          "output_type": "stream",
          "name": "stdout",
          "text": [
            "\n",
            "* \n",
            "* * \n",
            "* * * \n",
            "* * * * \n",
            "* * * * * \n",
            "* * * * \n",
            "* * * \n",
            "* * \n",
            "* \n"
          ]
        }
      ]
    },
    {
      "cell_type": "markdown",
      "source": [
        "#H.W3\n",
        "Q2-Print the first 3 prime numbers that are greater than 10 but less than 99"
      ],
      "metadata": {
        "id": "SWcC4V7e_tFK"
      }
    },
    {
      "cell_type": "code",
      "source": [
        "\n",
        "def is_prime(num):\n",
        "    \"\"\"Check if a number is prime.\"\"\"\n",
        "    if num < 2:\n",
        "        return False\n",
        "    for i in range(2, int(num**0.5) + 1):\n",
        "        if num % i == 0:\n",
        "            return False\n",
        "    return True\n",
        "\n",
        "# Find the first 3 prime numbers greater than 10 but less than 99\n",
        "count = 0\n",
        "number = 11  # Start checking from 11\n",
        "\n",
        "while count < 3:\n",
        "    if is_prime(number):\n",
        "        print(number)\n",
        "        count += 1\n",
        "    number += 1"
      ],
      "metadata": {
        "id": "wAMZCybl_zp5"
      },
      "execution_count": null,
      "outputs": []
    }
  ]
}